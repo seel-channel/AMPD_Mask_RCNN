{
  "nbformat": 4,
  "nbformat_minor": 0,
  "metadata": {
    "kernelspec": {
      "display_name": "Python 3",
      "language": "python",
      "name": "python3"
    },
    "language_info": {
      "codemirror_mode": {
        "name": "ipython",
        "version": 3
      },
      "file_extension": ".py",
      "mimetype": "text/x-python",
      "name": "python",
      "nbconvert_exporter": "python",
      "pygments_lexer": "ipython3",
      "version": "3.7.9"
    },
    "colab": {
      "name": "Run_Mask_RCNN_on_images_(DEMO).ipynb",
      "provenance": [],
      "collapsed_sections": [
        "rGWTPWBIx370",
        "Omb3Yl6ABqiJ",
        "Z9k3Wm0_BqiN",
        "6npLKIL3BqiO"
      ]
    },
    "accelerator": "GPU"
  },
  "cells": [
    {
      "cell_type": "markdown",
      "metadata": {
        "id": "ThXrqHkKBqh9"
      },
      "source": [
        "# Mask R-CNN Training (AMPD)\n",
        "\n",
        "This notebook shows how to train Mask R-CNN on your own Artificial Manga Panel Dataset."
      ]
    },
    {
      "cell_type": "markdown",
      "metadata": {
        "id": "rGWTPWBIx370"
      },
      "source": [
        "## **1. Installation**"
      ]
    },
    {
      "cell_type": "code",
      "metadata": {
        "id": "Md87Hxgtn6zi",
        "colab": {
          "base_uri": "https://localhost:8080/"
        },
        "outputId": "f08a11a2-ea88-47b8-895b-6fec84e780c3"
      },
      "source": [
        "%tensorflow_version 1.x\n",
        "!pip install --upgrade h5py==2.10.0\n",
        "!git clone https://github.com/seel-channel/AMPD_Mask_RCNN\n",
        "%matplotlib inline"
      ],
      "execution_count": 1,
      "outputs": [
        {
          "output_type": "stream",
          "name": "stdout",
          "text": [
            "TensorFlow 1.x selected.\n",
            "Collecting h5py==2.10.0\n",
            "  Downloading h5py-2.10.0-cp37-cp37m-manylinux1_x86_64.whl (2.9 MB)\n",
            "\u001b[K     |████████████████████████████████| 2.9 MB 4.9 MB/s \n",
            "\u001b[?25hRequirement already satisfied: six in /usr/local/lib/python3.7/dist-packages (from h5py==2.10.0) (1.15.0)\n",
            "Requirement already satisfied: numpy>=1.7 in /usr/local/lib/python3.7/dist-packages (from h5py==2.10.0) (1.19.5)\n",
            "Installing collected packages: h5py\n",
            "  Attempting uninstall: h5py\n",
            "    Found existing installation: h5py 3.1.0\n",
            "    Uninstalling h5py-3.1.0:\n",
            "      Successfully uninstalled h5py-3.1.0\n",
            "Successfully installed h5py-2.10.0\n",
            "Cloning into 'AMPD_Mask_RCNN'...\n",
            "remote: Enumerating objects: 1069, done.\u001b[K\n",
            "remote: Counting objects: 100% (16/16), done.\u001b[K\n",
            "remote: Compressing objects: 100% (12/12), done.\u001b[K\n",
            "remote: Total 1069 (delta 7), reused 11 (delta 4), pack-reused 1053\u001b[K\n",
            "Receiving objects: 100% (1069/1069), 125.87 MiB | 26.91 MiB/s, done.\n",
            "Resolving deltas: 100% (628/628), done.\n"
          ]
        }
      ]
    },
    {
      "cell_type": "code",
      "metadata": {
        "id": "4WihSfiBSMp4",
        "outputId": "9bd858bc-9628-4c06-c84a-de7807fdc4ae",
        "colab": {
          "base_uri": "https://localhost:8080/"
        }
      },
      "source": [
        "import sys\n",
        "sys.path.append(\"/content/AMPD_Mask_RCNN\")\n",
        "from train_mask_rcnn import *"
      ],
      "execution_count": 2,
      "outputs": [
        {
          "output_type": "stream",
          "name": "stdout",
          "text": [
            "VERS 0.2\n"
          ]
        },
        {
          "output_type": "stream",
          "name": "stderr",
          "text": [
            "Using TensorFlow backend.\n"
          ]
        },
        {
          "output_type": "stream",
          "name": "stdout",
          "text": [
            "Downloading pretrained model to /content/AMPD_Mask_RCNN/mask_rcnn_coco.h5 ...\n",
            "... done downloading pretrained model!\n"
          ]
        }
      ]
    },
    {
      "cell_type": "markdown",
      "metadata": {
        "id": "Omb3Yl6ABqiJ"
      },
      "source": [
        "## **2. Run Mask-RCNN on Images**\n",
        "\n",
        "You can load here the image and extract the mask using Mask-RCNN\n"
      ]
    },
    {
      "cell_type": "code",
      "metadata": {
        "id": "mhQhG1h9ScPk"
      },
      "source": [
        "from google.colab import drive\n",
        "drive.mount('/content/gdrive')"
      ],
      "execution_count": null,
      "outputs": []
    },
    {
      "cell_type": "code",
      "metadata": {
        "id": "-Zh3OppJTaKv"
      },
      "source": [
        "# Load model\n",
        "drive_folder = \"/content/gdrive/MyDrive/ampd/\"\n",
        "inference_config = drive_folder + \"/pretrained/object20211122T0339/mask_rcnn_object_0010.h5\"\n",
        "\n",
        "test_model = load_inference_model(1)"
      ],
      "execution_count": null,
      "outputs": []
    },
    {
      "cell_type": "code",
      "metadata": {
        "id": "IlNYqGhvqb_p"
      },
      "source": [
        "# Load Image\n",
        "img = cv2.imread(\"/content/images/IMG_20210731_162020.jpg\")\n",
        "image = cv2.cvtColor(img, cv2.COLOR_BGR2RGB)\n",
        "\n",
        "# Detect results\n",
        "r = model.detect([image])[0]\n",
        "colors = random_colors(num_classes)"
      ],
      "execution_count": null,
      "outputs": []
    },
    {
      "cell_type": "code",
      "metadata": {
        "id": "MnW8ETPKzqFT"
      },
      "source": [
        "# Get Coordinates and show it on the image\n",
        "object_count = len(r[\"class_ids\"])\n",
        "for i in range(object_count):\n",
        "    # 1. Mask\n",
        "    mask = r[\"masks\"][:, :, i]\n",
        "    contours = get_mask_contours(mask)\n",
        "    for cnt in contours:\n",
        "        cv2.polylines(img, [cnt], True, colors[i], 2)\n",
        "        img = draw_mask(img, [cnt], colors[i])"
      ],
      "execution_count": null,
      "outputs": []
    }
  ]
}